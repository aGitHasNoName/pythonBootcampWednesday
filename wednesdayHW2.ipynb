{
 "cells": [
  {
   "cell_type": "markdown",
   "metadata": {},
   "source": [
    "# Wednesday Homework 2 - More fun with files"
   ]
  },
  {
   "cell_type": "markdown",
   "metadata": {},
   "source": [
    "#### *If you are using Google Colab ONLY, run this line:*"
   ]
  },
  {
   "cell_type": "code",
   "execution_count": null,
   "metadata": {},
   "outputs": [],
   "source": [
    "!wget"
   ]
  },
  {
   "cell_type": "markdown",
   "metadata": {},
   "source": [
    "<br><br>**Everyone:** Store the filenames that we will be working with today:"
   ]
  },
  {
   "cell_type": "code",
   "execution_count": 1,
   "metadata": {},
   "outputs": [],
   "source": [
    "dog_file = \"dogs.txt\"\n",
    "gradebook_file = \"gradebook.csv\""
   ]
  },
  {
   "cell_type": "markdown",
   "metadata": {},
   "source": [
    "## <br><br>Turning a file into a clean list of lines"
   ]
  },
  {
   "cell_type": "markdown",
   "metadata": {},
   "source": [
    "Let's read in the dog file and see what it looks like:"
   ]
  },
  {
   "cell_type": "code",
   "execution_count": 4,
   "metadata": {},
   "outputs": [
    {
     "name": "stdout",
     "output_type": "stream",
     "text": [
      "affenpinscher\n",
      "Afghan hound\n",
      "Airedale terrier\n",
      "Akita\n",
      "Alaskan Malamute\n",
      "American Staffordshire terrier\n",
      "American water spaniel\n",
      "Australian cattle dog\n",
      "Australian shepherd\n",
      "Australian terrier\n",
      "basenji\n",
      "basset hound\n",
      "beagle\n",
      "bearded collie\n",
      "Bedlington terrier\n",
      "Bernese mountain dog\n",
      "bichon frise\n",
      "black and tan coonhound\n",
      "bloodhound\n",
      "border collie\n",
      "border terrier\n",
      "borzoi\n",
      "Boston terrier\n",
      "bouvier des Flandres\n",
      "boxer\n",
      "briard\n",
      "Brittany\n",
      "Brussels griffon\n",
      "bull terrier\n",
      "bulldog\n",
      "bullmastiff\n",
      "cairn terrier\n",
      "Canaan dog\n",
      "Chesapeake Bay retriever\n",
      "Chihuahua\n",
      "Chinese crested\n",
      "Chinese shar-pei\n",
      "chow chow\n",
      "Clumber spaniel\n",
      "cocker spaniel\n",
      "collie\n",
      "curly-coated retriever\n",
      "dachshund\n",
      "Dalmatian\n",
      "Doberman pinscher\n",
      "English cocker spaniel\n",
      "English setter\n",
      "English springer spaniel\n",
      "English toy spaniel\n",
      "Eskimo dog\n",
      "Finnish spitz\n",
      "flat-coated retriever\n",
      "fox terrier\n",
      "foxhound\n",
      "French bulldog\n",
      "German shepherd\n",
      "German shorthaired pointer\n",
      "German wirehaired pointer\n",
      "golden retriever\n",
      "Gordon setter\n",
      "Great Dane\n",
      "greyhound\n",
      "Irish setter\n",
      "Irish water spaniel\n",
      "Irish wolfhound\n",
      "Jack Russell terrier\n",
      "Japanese spaniel\n",
      "keeshond\n",
      "Kerry blue terrier\n",
      "komondor\n",
      "kuvasz\n",
      "Labrador retriever\n",
      "Lakeland terrier\n",
      "Lhasa apso\n",
      "Maltese\n",
      "Manchester terrier\n",
      "mastiff\n",
      "Mexican hairless\n",
      "Newfoundland\n",
      "Norwegian elkhound\n",
      "Norwich terrier\n",
      "otterhound\n",
      "papillon\n",
      "Pekingese\n",
      "pointer\n",
      "Pomeranian\n",
      "poodle\n",
      "pug\n",
      "puli\n",
      "Rhodesian ridgeback\n",
      "Rottweiler\n",
      "Saint Bernard\n",
      "saluki\n",
      "Samoyed\n",
      "schipperke\n",
      "schnauzer\n",
      "Scottish deerhound\n",
      "Scottish terrier\n",
      "Sealyham terrier\n",
      "Shetland sheepdog\n",
      "shih tzu\n",
      "Siberian husky\n",
      "silky terrier\n",
      "Skye terrier\n",
      "Staffordshire bull terrier\n",
      "soft-coated wheaten terrier\n",
      "Sussex spaniel\n",
      "spitz\n",
      "Tibetan terrier\n",
      "vizsla\n",
      "Weimaraner\n",
      "Welsh terrier\n",
      "West Highland white terrier\n",
      "whippet\n",
      "Yorkshire terrier\n"
     ]
    }
   ],
   "source": [
    "with open(dog_file, \"r\") as f:\n",
    "    print(f.read())"
   ]
  },
  {
   "cell_type": "markdown",
   "metadata": {},
   "source": [
    "<br>In the lecture, we learned that we can save this text as a list:"
   ]
  },
  {
   "cell_type": "code",
   "execution_count": 5,
   "metadata": {},
   "outputs": [],
   "source": [
    "with open(dog_file, \"r\") as f:\n",
    "    dog_list = f.readlines()"
   ]
  },
  {
   "cell_type": "code",
   "execution_count": 6,
   "metadata": {},
   "outputs": [
    {
     "name": "stdout",
     "output_type": "stream",
     "text": [
      "['affenpinscher\\n', 'Afghan hound\\n', 'Airedale terrier\\n', 'Akita\\n', 'Alaskan Malamute\\n', 'American Staffordshire terrier\\n', 'American water spaniel\\n', 'Australian cattle dog\\n', 'Australian shepherd\\n', 'Australian terrier\\n', 'basenji\\n', 'basset hound\\n', 'beagle\\n', 'bearded collie\\n', 'Bedlington terrier\\n', 'Bernese mountain dog\\n', 'bichon frise\\n', 'black and tan coonhound\\n', 'bloodhound\\n', 'border collie\\n', 'border terrier\\n', 'borzoi\\n', 'Boston terrier\\n', 'bouvier des Flandres\\n', 'boxer\\n', 'briard\\n', 'Brittany\\n', 'Brussels griffon\\n', 'bull terrier\\n', 'bulldog\\n', 'bullmastiff\\n', 'cairn terrier\\n', 'Canaan dog\\n', 'Chesapeake Bay retriever\\n', 'Chihuahua\\n', 'Chinese crested\\n', 'Chinese shar-pei\\n', 'chow chow\\n', 'Clumber spaniel\\n', 'cocker spaniel\\n', 'collie\\n', 'curly-coated retriever\\n', 'dachshund\\n', 'Dalmatian\\n', 'Doberman pinscher\\n', 'English cocker spaniel\\n', 'English setter\\n', 'English springer spaniel\\n', 'English toy spaniel\\n', 'Eskimo dog\\n', 'Finnish spitz\\n', 'flat-coated retriever\\n', 'fox terrier\\n', 'foxhound\\n', 'French bulldog\\n', 'German shepherd\\n', 'German shorthaired pointer\\n', 'German wirehaired pointer\\n', 'golden retriever\\n', 'Gordon setter\\n', 'Great Dane\\n', 'greyhound\\n', 'Irish setter\\n', 'Irish water spaniel\\n', 'Irish wolfhound\\n', 'Jack Russell terrier\\n', 'Japanese spaniel\\n', 'keeshond\\n', 'Kerry blue terrier\\n', 'komondor\\n', 'kuvasz\\n', 'Labrador retriever\\n', 'Lakeland terrier\\n', 'Lhasa apso\\n', 'Maltese\\n', 'Manchester terrier\\n', 'mastiff\\n', 'Mexican hairless\\n', 'Newfoundland\\n', 'Norwegian elkhound\\n', 'Norwich terrier\\n', 'otterhound\\n', 'papillon\\n', 'Pekingese\\n', 'pointer\\n', 'Pomeranian\\n', 'poodle\\n', 'pug\\n', 'puli\\n', 'Rhodesian ridgeback\\n', 'Rottweiler\\n', 'Saint Bernard\\n', 'saluki\\n', 'Samoyed\\n', 'schipperke\\n', 'schnauzer\\n', 'Scottish deerhound\\n', 'Scottish terrier\\n', 'Sealyham terrier\\n', 'Shetland sheepdog\\n', 'shih tzu\\n', 'Siberian husky\\n', 'silky terrier\\n', 'Skye terrier\\n', 'Staffordshire bull terrier\\n', 'soft-coated wheaten terrier\\n', 'Sussex spaniel\\n', 'spitz\\n', 'Tibetan terrier\\n', 'vizsla\\n', 'Weimaraner\\n', 'Welsh terrier\\n', 'West Highland white terrier\\n', 'whippet\\n', 'Yorkshire terrier']\n"
     ]
    }
   ],
   "source": [
    "print(dog_list)"
   ]
  },
  {
   "cell_type": "markdown",
   "metadata": {},
   "source": [
    "<br>Each item in the list is a string. Most strings end in a new line character, which we would like to remove."
   ]
  },
  {
   "cell_type": "markdown",
   "metadata": {},
   "source": [
    "We can combine what we learned today about opening files with what we learned yesterday about making new lists in a for loop with what we learned Monday about string functions."
   ]
  },
  {
   "cell_type": "markdown",
   "metadata": {},
   "source": [
    "First, make an empty list:"
   ]
  },
  {
   "cell_type": "code",
   "execution_count": 10,
   "metadata": {},
   "outputs": [],
   "source": [
    "dog_list = []"
   ]
  },
  {
   "cell_type": "markdown",
   "metadata": {},
   "source": [
    "Now, inside the with/as statement, you can loop through the lines in the file and append them to the empty list. But you also need to use a string function to remove the new line characters:"
   ]
  },
  {
   "cell_type": "code",
   "execution_count": 11,
   "metadata": {},
   "outputs": [
    {
     "name": "stdout",
     "output_type": "stream",
     "text": [
      "['affenpinscher', 'Afghan hound', 'Airedale terrier', 'Akita', 'Alaskan Malamute', 'American Staffordshire terrier', 'American water spaniel', 'Australian cattle dog', 'Australian shepherd', 'Australian terrier', 'basenji', 'basset hound', 'beagle', 'bearded collie', 'Bedlington terrier', 'Bernese mountain dog', 'bichon frise', 'black and tan coonhound', 'bloodhound', 'border collie', 'border terrier', 'borzoi', 'Boston terrier', 'bouvier des Flandres', 'boxer', 'briard', 'Brittany', 'Brussels griffon', 'bull terrier', 'bulldog', 'bullmastiff', 'cairn terrier', 'Canaan dog', 'Chesapeake Bay retriever', 'Chihuahua', 'Chinese crested', 'Chinese shar-pei', 'chow chow', 'Clumber spaniel', 'cocker spaniel', 'collie', 'curly-coated retriever', 'dachshund', 'Dalmatian', 'Doberman pinscher', 'English cocker spaniel', 'English setter', 'English springer spaniel', 'English toy spaniel', 'Eskimo dog', 'Finnish spitz', 'flat-coated retriever', 'fox terrier', 'foxhound', 'French bulldog', 'German shepherd', 'German shorthaired pointer', 'German wirehaired pointer', 'golden retriever', 'Gordon setter', 'Great Dane', 'greyhound', 'Irish setter', 'Irish water spaniel', 'Irish wolfhound', 'Jack Russell terrier', 'Japanese spaniel', 'keeshond', 'Kerry blue terrier', 'komondor', 'kuvasz', 'Labrador retriever', 'Lakeland terrier', 'Lhasa apso', 'Maltese', 'Manchester terrier', 'mastiff', 'Mexican hairless', 'Newfoundland', 'Norwegian elkhound', 'Norwich terrier', 'otterhound', 'papillon', 'Pekingese', 'pointer', 'Pomeranian', 'poodle', 'pug', 'puli', 'Rhodesian ridgeback', 'Rottweiler', 'Saint Bernard', 'saluki', 'Samoyed', 'schipperke', 'schnauzer', 'Scottish deerhound', 'Scottish terrier', 'Sealyham terrier', 'Shetland sheepdog', 'shih tzu', 'Siberian husky', 'silky terrier', 'Skye terrier', 'Staffordshire bull terrier', 'soft-coated wheaten terrier', 'Sussex spaniel', 'spitz', 'Tibetan terrier', 'vizsla', 'Weimaraner', 'Welsh terrier', 'West Highland white terrier', 'whippet', 'Yorkshire terrier']\n"
     ]
    }
   ],
   "source": [
    "with open(dog_file, \"r\") as f:\n",
    "    for line in f.readlines():\n",
    "        dog_list.append(line.rstrip(\"\\n\"))\n",
    "print(dog_list)"
   ]
  },
  {
   "cell_type": "markdown",
   "metadata": {},
   "source": [
    "<br>A clean list of dogs!"
   ]
  },
  {
   "cell_type": "markdown",
   "metadata": {},
   "source": [
    "### <br><br>Exercise 1"
   ]
  },
  {
   "cell_type": "markdown",
   "metadata": {},
   "source": [
    "Make a clean list of dogs from the dog_file that only includes dogs with the word \"terrier\" in their names. I've pasted the code we wrote to make a list of all dogs. You need to add an if statement inside the for loop to only append the terriers.  *Bonus: while you're at it, make the dog names all lowercase.*"
   ]
  },
  {
   "cell_type": "code",
   "execution_count": null,
   "metadata": {},
   "outputs": [],
   "source": [
    "dog_list = []\n",
    "with open(dog_file, \"r\") as f:\n",
    "    for line in f.readlines():\n",
    "        dog_list.append(line.rstrip(\"\\n\"))\n",
    "print(dog_list)"
   ]
  },
  {
   "cell_type": "markdown",
   "metadata": {},
   "source": [
    "## <br><br>Turning a file into a dictionary"
   ]
  },
  {
   "cell_type": "markdown",
   "metadata": {},
   "source": [
    "Let's open the gradebook file and see what it looks like:"
   ]
  },
  {
   "cell_type": "code",
   "execution_count": 13,
   "metadata": {},
   "outputs": [
    {
     "name": "stdout",
     "output_type": "stream",
     "text": [
      "name,hw1,hw2,hw3,exam1,exam2\n",
      "Mary,10,7,9,91,89\n",
      "Flo,6,6,7,79,82\n",
      "Lia,8,9,10,92,95\n",
      "Tim,7,6,7,93,87\n",
      "Terry,8,10,10,93,90\n"
     ]
    }
   ],
   "source": [
    "with open(gradebook_file, \"r\") as f:\n",
    "    print(f.read())"
   ]
  },
  {
   "cell_type": "markdown",
   "metadata": {},
   "source": [
    "<br>**Our end goal is to have a dictionary with the student's name as the key and a list of their grades as the values.**"
   ]
  },
  {
   "cell_type": "markdown",
   "metadata": {},
   "source": [
    "<br>Ok, first let's store it as a list, but we want to leave out the first line of headers. When we call `f.readlines()` it turns the file into a list. We can index a list, so let's take all the lines except the first one:"
   ]
  },
  {
   "cell_type": "code",
   "execution_count": 15,
   "metadata": {},
   "outputs": [],
   "source": [
    "with open(gradebook_file, \"r\") as f:\n",
    "    gradebook = f.readlines()[1:]"
   ]
  },
  {
   "cell_type": "code",
   "execution_count": 16,
   "metadata": {},
   "outputs": [
    {
     "name": "stdout",
     "output_type": "stream",
     "text": [
      "Mary,10,7,9,91,89\n",
      "\n",
      "Flo,6,6,7,79,82\n",
      "\n",
      "Lia,8,9,10,92,95\n",
      "\n",
      "Tim,7,6,7,93,87\n",
      "\n",
      "Terry,8,10,10,93,90\n"
     ]
    }
   ],
   "source": [
    "for line in gradebook:\n",
    "    print(line)"
   ]
  },
  {
   "cell_type": "markdown",
   "metadata": {},
   "source": [
    "We can see that there are new line characters at the end of each line (because it is printing extra empty lines between the lines). Let's make a note of that."
   ]
  },
  {
   "cell_type": "markdown",
   "metadata": {},
   "source": [
    "<br>We can apply what we know about lists and strings to make a list of what we need to code:\n",
    "- make an empty dictionary\n",
    "- loop through the gradebook list\n",
    "- remove the new line characters from the end\n",
    "- split the line on the commas\n",
    "- separate the first item to be the key\n",
    "- store the rest of the items as a list\n",
    "- assign the key:value pairs to our dictionary"
   ]
  },
  {
   "cell_type": "code",
   "execution_count": 23,
   "metadata": {},
   "outputs": [],
   "source": [
    "grade_dict = {} #make an empty dictionary\n",
    "for line in gradebook: #loop through the gradebook list\n",
    "    line2 = line.rstrip(\"\\n\") #remove the new line characters from the end\n",
    "    line_list = line2.split(\",\") #split the line on the commas\n",
    "    name = line_list[0] #separate the first item to be the key\n",
    "    grades = line_list[1:] #store the rest of the items as a list\n",
    "    grade_dict[name] = grades #assign the key:value pairs to our dictionary"
   ]
  },
  {
   "cell_type": "code",
   "execution_count": 24,
   "metadata": {},
   "outputs": [
    {
     "name": "stdout",
     "output_type": "stream",
     "text": [
      "{'Mary': ['10', '7', '9', '91', '89'], 'Flo': ['6', '6', '7', '79', '82'], 'Lia': ['8', '9', '10', '92', '95'], 'Tim': ['7', '6', '7', '93', '87'], 'Terry': ['8', '10', '10', '93', '90']}\n"
     ]
    }
   ],
   "source": [
    "print(grade_dict)"
   ]
  },
  {
   "cell_type": "markdown",
   "metadata": {},
   "source": [
    "<br>**Question:** We wrote out all the steps and wrote the code with one line per step. This code could be condensed into fewer lines or left how it is - as explicit as possible. **Can you think of ways that the code could be condensed to fewer lines?**"
   ]
  },
  {
   "cell_type": "code",
   "execution_count": null,
   "metadata": {},
   "outputs": [],
   "source": []
  },
  {
   "cell_type": "markdown",
   "metadata": {},
   "source": [
    "## <br><br>Writing files"
   ]
  },
  {
   "cell_type": "markdown",
   "metadata": {},
   "source": [
    "### <br>Exercise 2"
   ]
  },
  {
   "cell_type": "markdown",
   "metadata": {},
   "source": [
    "We just created a dictionary, `grade_dict`. The first three items in each value are homework grades. **Write a new file** that includes one complete sentence for each student in the dictionary. The sentence should include the student's name and their three homework grades. A sample sentence is \"Mary's homework grades are 10, 7, and 9.\""
   ]
  },
  {
   "cell_type": "markdown",
   "metadata": {},
   "source": [
    "<br>You will need to:\n",
    "- store a variable that contains the filename of the new file you want to create\n",
    "- write a with/as statement to open the new file in write mode\n",
    "- loop through the key:value pairs in the `grade_dict` dictionary\n",
    "- store a string that composes a sentence that uses the key (student's name) and indexes each of the first three items in the value\n",
    "- add a new line character to the end of the string so that each student will have their own line in the file\n",
    "- use `f.write()` to write the string to the `f` file object."
   ]
  },
  {
   "cell_type": "code",
   "execution_count": null,
   "metadata": {},
   "outputs": [],
   "source": []
  },
  {
   "cell_type": "code",
   "execution_count": null,
   "metadata": {},
   "outputs": [],
   "source": []
  },
  {
   "cell_type": "code",
   "execution_count": null,
   "metadata": {},
   "outputs": [],
   "source": []
  },
  {
   "cell_type": "code",
   "execution_count": null,
   "metadata": {},
   "outputs": [],
   "source": []
  },
  {
   "cell_type": "markdown",
   "metadata": {},
   "source": [
    "## <br><br>Reading files line by line"
   ]
  },
  {
   "cell_type": "markdown",
   "metadata": {},
   "source": [
    "Sometimes you might be working with a very large file, with millions of lines, and you don't want to read it all into memory as a string or list."
   ]
  },
  {
   "cell_type": "markdown",
   "metadata": {},
   "source": [
    "There is a file method, `readline()`, that reads in only one line at a time. **I don't expect you to practice this method here, but I will give an example, so that you know it exists if you ever need to look it up.**"
   ]
  },
  {
   "cell_type": "markdown",
   "metadata": {},
   "source": [
    "Let's imagine that there are millions of types of dogs (if only!) and our dogs.txt file is millions of lines long. We can use readline to loop through it and only store the dogs that we need for this notebook or script. This doesn't work the same way as `readlines()` because `readlines()` is a list and `readline()` is the string of only the first line. We need to use a while loop, which is something we aren't learning this week:"
   ]
  },
  {
   "cell_type": "code",
   "execution_count": 29,
   "metadata": {},
   "outputs": [],
   "source": [
    "hounds = []\n",
    "with open(dog_file, \"r\") as f:\n",
    "    line = f.readline()\n",
    "    while line:\n",
    "        if \"hound\" in line:\n",
    "            hounds.append(line.rstrip(\"\\n\").lower())\n",
    "        line = f.readline()"
   ]
  },
  {
   "cell_type": "code",
   "execution_count": 30,
   "metadata": {},
   "outputs": [
    {
     "name": "stdout",
     "output_type": "stream",
     "text": [
      "['afghan hound', 'basset hound', 'black and tan coonhound', 'bloodhound', 'foxhound', 'greyhound', 'irish wolfhound', 'norwegian elkhound', 'otterhound', 'scottish deerhound']\n"
     ]
    }
   ],
   "source": [
    "print(hounds)"
   ]
  },
  {
   "cell_type": "code",
   "execution_count": null,
   "metadata": {},
   "outputs": [],
   "source": []
  }
 ],
 "metadata": {
  "kernelspec": {
   "display_name": "Python 3",
   "language": "python",
   "name": "python3"
  },
  "language_info": {
   "codemirror_mode": {
    "name": "ipython",
    "version": 3
   },
   "file_extension": ".py",
   "mimetype": "text/x-python",
   "name": "python",
   "nbconvert_exporter": "python",
   "pygments_lexer": "ipython3",
   "version": "3.7.3"
  }
 },
 "nbformat": 4,
 "nbformat_minor": 4
}
